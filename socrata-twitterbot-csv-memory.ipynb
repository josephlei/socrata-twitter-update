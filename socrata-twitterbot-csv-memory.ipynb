{
 "cells": [
  {
   "cell_type": "code",
   "execution_count": null,
   "metadata": {
    "collapsed": false
   },
   "outputs": [],
   "source": [
    "#import the necessary libraries\n",
    "import csv, requests, datetime, time\n",
    "import simplejson as json\n",
    "import pandas as pd\n",
    "from twython import Twython"
   ]
  },
  {
   "cell_type": "code",
   "execution_count": null,
   "metadata": {
    "collapsed": false
   },
   "outputs": [],
   "source": [
    "#change this to the SOCRATA portal you want to target, don't forget the trailing slash\n",
    "targeturl ='http://chhs.data.ca.gov/'"
   ]
  },
  {
   "cell_type": "code",
   "execution_count": null,
   "metadata": {
    "collapsed": true
   },
   "outputs": [],
   "source": [
    "#build data.json url string accaccording to SOCRATA's convention\n",
    "r=requests.get(targeturl+\"api/dcat.json\")"
   ]
  },
  {
   "cell_type": "code",
   "execution_count": null,
   "metadata": {
    "collapsed": true
   },
   "outputs": [],
   "source": [
    "#parse the json response into a dictionary named j, coincidentally j's KVPs are also dictionaries\n",
    "j=r.json()"
   ]
  },
  {
   "cell_type": "code",
   "execution_count": null,
   "metadata": {
    "collapsed": false,
    "scrolled": true
   },
   "outputs": [],
   "source": [
    "#stop if something went wrong\n",
    "if r.status_code==200: print(\"\\nsuccessfully fetched json data, http return code 200\")\n",
    "else: sys.exit()"
   ]
  },
  {
   "cell_type": "markdown",
   "metadata": {},
   "source": [
    "# READ THIS CAREFULLY\n",
    "\n",
    "## The next cell is used for creating INITIAL memory csv file in the same working directory or to RESET if things go terribly wrong\n",
    "\n",
    "## this SHOULD usually only used ONCE, do NOT run the next cell everyday, you will OVERWRITE the operational 'memory' file"
   ]
  },
  {
   "cell_type": "code",
   "execution_count": null,
   "metadata": {
    "collapsed": false,
    "scrolled": true
   },
   "outputs": [],
   "source": [
    "enter_todays_date='2017-04-24'\n",
    "\n",
    "memory=[]\n",
    "for i in j:\n",
    "    if len(i['identifier']) == 9:\n",
    "        yr=int(i['created'][:4])\n",
    "        mo=int(i['created'][5:7])\n",
    "        dy=int(i['created'][8:10])\n",
    "        created=datetime.date(yr,mo,dy)\n",
    "\n",
    "        yr=int(i['modified'][:4])\n",
    "        mo=int(i['modified'][5:7])\n",
    "        dy=int(i['modified'][8:10])\n",
    "        modified=datetime.date(yr,mo,dy)\n",
    "        \n",
    "#         delta=today-datetime.date(2017,4,2)\n",
    "#         print (delta.days)\n",
    "        \n",
    "        insert=[i['identifier'],created,modified.isoformat(),enter_todays_date]\n",
    "        memory.append(insert)\n",
    "df=pd.DataFrame(data=memory,columns=['id','created','modified','last_tweeted'])\n",
    "df=df.set_index('id')\n",
    "print (df)\n",
    "df.to_csv('memory.csv')"
   ]
  },
  {
   "cell_type": "code",
   "execution_count": null,
   "metadata": {
    "collapsed": true
   },
   "outputs": [],
   "source": [
    "#authenticate with your own twitter application tokens below\n",
    "twitter = Twython(APP_KEY, APP_SECRET, OAUTH_TOKEN, OAUTH_TOKEN_SECRET)"
   ]
  },
  {
   "cell_type": "code",
   "execution_count": null,
   "metadata": {
    "collapsed": false
   },
   "outputs": [],
   "source": [
    "#function that truncates long titles and sends the tweet\n",
    "def tweet_it(identifier,title):\n",
    "    title=title[:89] #if title is too long, truncate it to fit, will require adj. if wording is changed\n",
    "    x=\"Updated data \\\"\"+title+\"\\\" \"+targeturl+\"d/\"+identifier\n",
    "    print (x), \"debug tweet sent\" #for debugging\n",
    "    twitter.update_status(status=x) #send the tweet\n",
    "    time.sleep(2) #wait 2 seconds between tweets, this can be adjusted"
   ]
  },
  {
   "cell_type": "code",
   "execution_count": null,
   "metadata": {
    "collapsed": true
   },
   "outputs": [],
   "source": [
    "#declare global 'today' variable for data munging use\n",
    "today=datetime.datetime.today()\n",
    "\n",
    "#declare a threshold below which tweets will not be REPEATED\n",
    "#ex. if a dataset is modified EVERY DAY, threshold=7 will ensure that\n",
    "#dataset is only tweeted once every 7 days\n",
    "threshold=7"
   ]
  },
  {
   "cell_type": "code",
   "execution_count": null,
   "metadata": {
    "collapsed": false,
    "scrolled": true
   },
   "outputs": [],
   "source": [
    "#read in pre-existing memory file, if one does not exist this will cause an error\n",
    "#create a memory file by using the code included\n",
    "memory=pd.read_csv('memory.csv',index_col=0)\n",
    "print (memory) #debug"
   ]
  },
  {
   "cell_type": "code",
   "execution_count": null,
   "metadata": {
    "collapsed": false,
    "scrolled": true
   },
   "outputs": [],
   "source": [
    "for i in j:\n",
    "    if len(i['identifier']) == 9:\n",
    "        if i['identifier'] in memory.index.values: #known to us\n",
    "            c_str=memory.loc[i['identifier']]['created']\n",
    "            m_str=memory.loc[i['identifier']]['modified']\n",
    "            l_str=memory.loc[i['identifier']]['last_tweeted']\n",
    "            c_dt=datetime.datetime.strptime(c_str,'%Y-%m-%d')\n",
    "            m_dt=datetime.datetime.strptime(m_str,'%Y-%m-%d')\n",
    "            l_dt=datetime.datetime.strptime(l_str,'%Y-%m-%d')\n",
    "            delta=(today-l_dt).days>threshold\n",
    "            valid=(today-m_dt).days<=1\n",
    "            # print (delta, valid) #debug\n",
    "            \n",
    "            if delta and valid:\n",
    "                print (\"valid update\")\n",
    "                tweet_it(i['identifier'],i['title'])\n",
    "                memory.loc[i['identifier']]['modified']=i['modified'] # update the record's modified date\n",
    "                memory.loc[i['identifier']]['last_tweeted']=today.strftime('%Y-%m-%d') # update the record's last_tweeted date\n",
    "            else:\n",
    "                print (\"known but not changed or not old enough\")\n",
    "                memory.loc[i['identifier']]['modified']=i['modified'] # update the record's modified date\n",
    "        else:\n",
    "            try:\n",
    "                print (i['identifier']+\"is new, not known to memory\")\n",
    "                tweet_it(i['identifier'],i['title'])\n",
    "                new_record=pd.DataFrame([[i['identifier'],i['created'],i['modified'],today.strftime('%Y-%m-%d')]], columns=['id','created','modified','last_tweeted'])\n",
    "                new_record=new_record.set_index('id')\n",
    "                memory=memory.append(new_record)\n",
    "                print (new_record)\n",
    "            except:\n",
    "                pass\n",
    "# print (memory)\n",
    "# print(\"done\")"
   ]
  },
  {
   "cell_type": "code",
   "execution_count": null,
   "metadata": {
    "collapsed": true
   },
   "outputs": [],
   "source": [
    "#create updated memory file after today's changes\n",
    "memory.to_csv('memory.csv')"
   ]
  }
 ],
 "metadata": {
  "kernelspec": {
   "display_name": "Python 3",
   "language": "python",
   "name": "python3"
  },
  "language_info": {
   "codemirror_mode": {
    "name": "ipython",
    "version": 3
   },
   "file_extension": ".py",
   "mimetype": "text/x-python",
   "name": "python",
   "nbconvert_exporter": "python",
   "pygments_lexer": "ipython3",
   "version": "3.6.0"
  }
 },
 "nbformat": 4,
 "nbformat_minor": 0
}
